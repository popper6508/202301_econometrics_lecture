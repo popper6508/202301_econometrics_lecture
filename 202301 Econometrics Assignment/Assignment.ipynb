{
 "cells": [
  {
   "cell_type": "code",
   "execution_count": 1,
   "metadata": {},
   "outputs": [],
   "source": [
    "import os\n",
    "import pandas as pd\n",
    "import numpy as np\n",
    "import statsmodels.api as sm\n",
    "import statsmodels.formula.api as smf\n",
    "import matplotlib.pyplot as plt"
   ]
  },
  {
   "cell_type": "code",
   "execution_count": 10,
   "metadata": {},
   "outputs": [],
   "source": [
    "assign4_1 = pd.read_excel(\"macrodata.xlsx\", header = None)"
   ]
  },
  {
   "cell_type": "code",
   "execution_count": 11,
   "metadata": {},
   "outputs": [
    {
     "data": {
      "text/html": [
       "<div>\n",
       "<style scoped>\n",
       "    .dataframe tbody tr th:only-of-type {\n",
       "        vertical-align: middle;\n",
       "    }\n",
       "\n",
       "    .dataframe tbody tr th {\n",
       "        vertical-align: top;\n",
       "    }\n",
       "\n",
       "    .dataframe thead th {\n",
       "        text-align: right;\n",
       "    }\n",
       "</style>\n",
       "<table border=\"1\" class=\"dataframe\">\n",
       "  <thead>\n",
       "    <tr style=\"text-align: right;\">\n",
       "      <th></th>\n",
       "      <th>0</th>\n",
       "      <th>1</th>\n",
       "      <th>2</th>\n",
       "    </tr>\n",
       "  </thead>\n",
       "  <tbody>\n",
       "    <tr>\n",
       "      <th>0</th>\n",
       "      <td>6.0</td>\n",
       "      <td>27549.1</td>\n",
       "      <td>7.16</td>\n",
       "    </tr>\n",
       "    <tr>\n",
       "      <th>1</th>\n",
       "      <td>5.0</td>\n",
       "      <td>27668.3</td>\n",
       "      <td>7.12</td>\n",
       "    </tr>\n",
       "    <tr>\n",
       "      <th>2</th>\n",
       "      <td>5.5</td>\n",
       "      <td>27522.3</td>\n",
       "      <td>7.14</td>\n",
       "    </tr>\n",
       "    <tr>\n",
       "      <th>3</th>\n",
       "      <td>4.2</td>\n",
       "      <td>27312.6</td>\n",
       "      <td>7.12</td>\n",
       "    </tr>\n",
       "    <tr>\n",
       "      <th>4</th>\n",
       "      <td>4.0</td>\n",
       "      <td>27426.7</td>\n",
       "      <td>7.08</td>\n",
       "    </tr>\n",
       "  </tbody>\n",
       "</table>\n",
       "</div>"
      ],
      "text/plain": [
       "     0        1     2\n",
       "0  6.0  27549.1  7.16\n",
       "1  5.0  27668.3  7.12\n",
       "2  5.5  27522.3  7.14\n",
       "3  4.2  27312.6  7.12\n",
       "4  4.0  27426.7  7.08"
      ]
     },
     "execution_count": 11,
     "metadata": {},
     "output_type": "execute_result"
    }
   ],
   "source": [
    "assign4_1.head()"
   ]
  },
  {
   "cell_type": "code",
   "execution_count": 13,
   "metadata": {},
   "outputs": [
    {
     "data": {
      "text/plain": [
       "0    0\n",
       "1    0\n",
       "2    0\n",
       "dtype: int64"
      ]
     },
     "execution_count": 13,
     "metadata": {},
     "output_type": "execute_result"
    }
   ],
   "source": [
    "assign4_1.isna().sum()"
   ]
  },
  {
   "cell_type": "code",
   "execution_count": 14,
   "metadata": {},
   "outputs": [],
   "source": [
    "assign4_1.columns = [\"Unemployment_Rate\", \"Government_Expenditure\",\"Interest_Rate\"]"
   ]
  },
  {
   "cell_type": "code",
   "execution_count": 15,
   "metadata": {},
   "outputs": [
    {
     "data": {
      "text/html": [
       "<div>\n",
       "<style scoped>\n",
       "    .dataframe tbody tr th:only-of-type {\n",
       "        vertical-align: middle;\n",
       "    }\n",
       "\n",
       "    .dataframe tbody tr th {\n",
       "        vertical-align: top;\n",
       "    }\n",
       "\n",
       "    .dataframe thead th {\n",
       "        text-align: right;\n",
       "    }\n",
       "</style>\n",
       "<table border=\"1\" class=\"dataframe\">\n",
       "  <thead>\n",
       "    <tr style=\"text-align: right;\">\n",
       "      <th></th>\n",
       "      <th>Unemployment_Rate</th>\n",
       "      <th>Government_Expenditure</th>\n",
       "      <th>Interest_Rate</th>\n",
       "    </tr>\n",
       "  </thead>\n",
       "  <tbody>\n",
       "    <tr>\n",
       "      <th>0</th>\n",
       "      <td>6.0</td>\n",
       "      <td>27549.1</td>\n",
       "      <td>7.16</td>\n",
       "    </tr>\n",
       "    <tr>\n",
       "      <th>1</th>\n",
       "      <td>5.0</td>\n",
       "      <td>27668.3</td>\n",
       "      <td>7.12</td>\n",
       "    </tr>\n",
       "    <tr>\n",
       "      <th>2</th>\n",
       "      <td>5.5</td>\n",
       "      <td>27522.3</td>\n",
       "      <td>7.14</td>\n",
       "    </tr>\n",
       "    <tr>\n",
       "      <th>3</th>\n",
       "      <td>4.2</td>\n",
       "      <td>27312.6</td>\n",
       "      <td>7.12</td>\n",
       "    </tr>\n",
       "    <tr>\n",
       "      <th>4</th>\n",
       "      <td>4.0</td>\n",
       "      <td>27426.7</td>\n",
       "      <td>7.08</td>\n",
       "    </tr>\n",
       "  </tbody>\n",
       "</table>\n",
       "</div>"
      ],
      "text/plain": [
       "   Unemployment_Rate  Government_Expenditure  Interest_Rate\n",
       "0                6.0                 27549.1           7.16\n",
       "1                5.0                 27668.3           7.12\n",
       "2                5.5                 27522.3           7.14\n",
       "3                4.2                 27312.6           7.12\n",
       "4                4.0                 27426.7           7.08"
      ]
     },
     "execution_count": 15,
     "metadata": {},
     "output_type": "execute_result"
    }
   ],
   "source": [
    "assign4_1.head()"
   ]
  },
  {
   "cell_type": "code",
   "execution_count": 18,
   "metadata": {},
   "outputs": [
    {
     "name": "stdout",
     "output_type": "stream",
     "text": [
      "                            OLS Regression Results                            \n",
      "==============================================================================\n",
      "Dep. Variable:      Unemployment_Rate   R-squared:                       0.113\n",
      "Model:                            OLS   Adj. R-squared:                  0.100\n",
      "Method:                 Least Squares   F-statistic:                     9.017\n",
      "Date:                Sat, 22 Apr 2023   Prob (F-statistic):            0.00369\n",
      "Time:                        15:25:32   Log-Likelihood:                -60.772\n",
      "No. Observations:                  73   AIC:                             125.5\n",
      "Df Residuals:                      71   BIC:                             130.1\n",
      "Df Model:                           1                                         \n",
      "Covariance Type:            nonrobust                                         \n",
      "==========================================================================================\n",
      "                             coef    std err          t      P>|t|      [0.025      0.975]\n",
      "------------------------------------------------------------------------------------------\n",
      "Intercept                  4.5113      0.305     14.780      0.000       3.903       5.120\n",
      "Government_Expenditure -2.152e-05   7.17e-06     -3.003      0.004   -3.58e-05   -7.23e-06\n",
      "==============================================================================\n",
      "Omnibus:                       23.722   Durbin-Watson:                   1.059\n",
      "Prob(Omnibus):                  0.000   Jarque-Bera (JB):               35.085\n",
      "Skew:                           1.318   Prob(JB):                     2.41e-08\n",
      "Kurtosis:                       5.141   Cond. No.                     1.97e+05\n",
      "==============================================================================\n",
      "\n",
      "Notes:\n",
      "[1] Standard Errors assume that the covariance matrix of the errors is correctly specified.\n",
      "[2] The condition number is large, 1.97e+05. This might indicate that there are\n",
      "strong multicollinearity or other numerical problems.\n"
     ]
    }
   ],
   "source": [
    "regr1 = smf.ols(formula= \"Unemployment_Rate ~ Government_Expenditure\", data = assign4_1).fit()\n",
    "print(regr1.summary())"
   ]
  },
  {
   "cell_type": "code",
   "execution_count": 19,
   "metadata": {},
   "outputs": [
    {
     "name": "stdout",
     "output_type": "stream",
     "text": [
      "                            OLS Regression Results                            \n",
      "==============================================================================\n",
      "Dep. Variable:      Unemployment_Rate   R-squared:                       0.102\n",
      "Model:                            OLS   Adj. R-squared:                  0.089\n",
      "Method:                 Least Squares   F-statistic:                     8.066\n",
      "Date:                Sat, 22 Apr 2023   Prob (F-statistic):            0.00588\n",
      "Time:                        15:26:04   Log-Likelihood:                -61.208\n",
      "No. Observations:                  73   AIC:                             126.4\n",
      "Df Residuals:                      71   BIC:                             131.0\n",
      "Df Model:                           1                                         \n",
      "Covariance Type:            nonrobust                                         \n",
      "=================================================================================\n",
      "                    coef    std err          t      P>|t|      [0.025      0.975]\n",
      "---------------------------------------------------------------------------------\n",
      "Intercept         3.1632      0.173     18.301      0.000       2.819       3.508\n",
      "Interest_Rate     0.1195      0.042      2.840      0.006       0.036       0.203\n",
      "==============================================================================\n",
      "Omnibus:                       16.335   Durbin-Watson:                   1.067\n",
      "Prob(Omnibus):                  0.000   Jarque-Bera (JB):               19.504\n",
      "Skew:                           1.045   Prob(JB):                     5.82e-05\n",
      "Kurtosis:                       4.428   Cond. No.                         11.2\n",
      "==============================================================================\n",
      "\n",
      "Notes:\n",
      "[1] Standard Errors assume that the covariance matrix of the errors is correctly specified.\n"
     ]
    }
   ],
   "source": [
    "regr2 = smf.ols(formula= \"Unemployment_Rate ~ Interest_Rate\", data = assign4_1).fit()\n",
    "print(regr2.summary())"
   ]
  },
  {
   "cell_type": "code",
   "execution_count": 20,
   "metadata": {},
   "outputs": [
    {
     "name": "stdout",
     "output_type": "stream",
     "text": [
      "                            OLS Regression Results                            \n",
      "==============================================================================\n",
      "Dep. Variable:      Unemployment_Rate   R-squared:                       0.117\n",
      "Model:                            OLS   Adj. R-squared:                  0.092\n",
      "Method:                 Least Squares   F-statistic:                     4.638\n",
      "Date:                Sat, 22 Apr 2023   Prob (F-statistic):             0.0128\n",
      "Time:                        15:26:31   Log-Likelihood:                -60.594\n",
      "No. Observations:                  73   AIC:                             127.2\n",
      "Df Residuals:                      70   BIC:                             134.1\n",
      "Df Model:                           2                                         \n",
      "Covariance Type:            nonrobust                                         \n",
      "==========================================================================================\n",
      "                             coef    std err          t      P>|t|      [0.025      0.975]\n",
      "------------------------------------------------------------------------------------------\n",
      "Intercept                  4.0557      0.837      4.848      0.000       2.387       5.724\n",
      "Interest_Rate              0.0463      0.079      0.585      0.560      -0.112       0.204\n",
      "Government_Expenditure -1.479e-05   1.36e-05     -1.090      0.279   -4.19e-05    1.23e-05\n",
      "==============================================================================\n",
      "Omnibus:                       20.273   Durbin-Watson:                   1.071\n",
      "Prob(Omnibus):                  0.000   Jarque-Bera (JB):               26.953\n",
      "Skew:                           1.202   Prob(JB):                     1.40e-06\n",
      "Kurtosis:                       4.757   Cond. No.                     5.39e+05\n",
      "==============================================================================\n",
      "\n",
      "Notes:\n",
      "[1] Standard Errors assume that the covariance matrix of the errors is correctly specified.\n",
      "[2] The condition number is large, 5.39e+05. This might indicate that there are\n",
      "strong multicollinearity or other numerical problems.\n"
     ]
    }
   ],
   "source": [
    "regr3 = smf.ols(formula= \"Unemployment_Rate ~ Interest_Rate + Government_Expenditure\", data = assign4_1).fit()\n",
    "print(regr3.summary())"
   ]
  },
  {
   "cell_type": "code",
   "execution_count": 21,
   "metadata": {},
   "outputs": [],
   "source": [
    "auto = pd.read_excel(\"auto.xlsx\")"
   ]
  },
  {
   "cell_type": "code",
   "execution_count": 22,
   "metadata": {},
   "outputs": [
    {
     "name": "stdout",
     "output_type": "stream",
     "text": [
      "<class 'pandas.core.frame.DataFrame'>\n",
      "RangeIndex: 74 entries, 0 to 73\n",
      "Data columns (total 12 columns):\n",
      " #   Column        Non-Null Count  Dtype  \n",
      "---  ------        --------------  -----  \n",
      " 0   make          74 non-null     object \n",
      " 1   price         74 non-null     int64  \n",
      " 2   mpg           74 non-null     int64  \n",
      " 3   rep78         69 non-null     float64\n",
      " 4   headroom      74 non-null     float64\n",
      " 5   trunk         74 non-null     int64  \n",
      " 6   weight        74 non-null     int64  \n",
      " 7   length        74 non-null     int64  \n",
      " 8   turn          74 non-null     int64  \n",
      " 9   displacement  74 non-null     int64  \n",
      " 10  gear_ratio    74 non-null     float64\n",
      " 11  foreign       74 non-null     object \n",
      "dtypes: float64(3), int64(7), object(2)\n",
      "memory usage: 7.1+ KB\n"
     ]
    }
   ],
   "source": [
    "auto.info()"
   ]
  },
  {
   "cell_type": "code",
   "execution_count": 23,
   "metadata": {},
   "outputs": [
    {
     "data": {
      "text/plain": [
       "make            0\n",
       "price           0\n",
       "mpg             0\n",
       "rep78           5\n",
       "headroom        0\n",
       "trunk           0\n",
       "weight          0\n",
       "length          0\n",
       "turn            0\n",
       "displacement    0\n",
       "gear_ratio      0\n",
       "foreign         0\n",
       "dtype: int64"
      ]
     },
     "execution_count": 23,
     "metadata": {},
     "output_type": "execute_result"
    }
   ],
   "source": [
    "auto.isna().sum()"
   ]
  },
  {
   "cell_type": "code",
   "execution_count": 24,
   "metadata": {},
   "outputs": [],
   "source": [
    "auto.dropna(inplace=True)"
   ]
  },
  {
   "cell_type": "code",
   "execution_count": 25,
   "metadata": {},
   "outputs": [
    {
     "name": "stdout",
     "output_type": "stream",
     "text": [
      "<class 'pandas.core.frame.DataFrame'>\n",
      "Int64Index: 69 entries, 0 to 73\n",
      "Data columns (total 12 columns):\n",
      " #   Column        Non-Null Count  Dtype  \n",
      "---  ------        --------------  -----  \n",
      " 0   make          69 non-null     object \n",
      " 1   price         69 non-null     int64  \n",
      " 2   mpg           69 non-null     int64  \n",
      " 3   rep78         69 non-null     float64\n",
      " 4   headroom      69 non-null     float64\n",
      " 5   trunk         69 non-null     int64  \n",
      " 6   weight        69 non-null     int64  \n",
      " 7   length        69 non-null     int64  \n",
      " 8   turn          69 non-null     int64  \n",
      " 9   displacement  69 non-null     int64  \n",
      " 10  gear_ratio    69 non-null     float64\n",
      " 11  foreign       69 non-null     object \n",
      "dtypes: float64(3), int64(7), object(2)\n",
      "memory usage: 7.0+ KB\n"
     ]
    }
   ],
   "source": [
    "auto.info()"
   ]
  },
  {
   "cell_type": "code",
   "execution_count": 26,
   "metadata": {},
   "outputs": [
    {
     "data": {
      "text/plain": [
       "Index(['make', 'price', 'mpg', 'rep78', 'headroom', 'trunk', 'weight',\n",
       "       'length', 'turn', 'displacement', 'gear_ratio', 'foreign'],\n",
       "      dtype='object')"
      ]
     },
     "execution_count": 26,
     "metadata": {},
     "output_type": "execute_result"
    }
   ],
   "source": [
    "auto.columns"
   ]
  },
  {
   "cell_type": "code",
   "execution_count": 28,
   "metadata": {},
   "outputs": [
    {
     "name": "stdout",
     "output_type": "stream",
     "text": [
      "                            OLS Regression Results                            \n",
      "==============================================================================\n",
      "Dep. Variable:                  price   R-squared:                       0.300\n",
      "Model:                            OLS   Adj. R-squared:                  0.290\n",
      "Method:                 Least Squares   F-statistic:                     28.73\n",
      "Date:                Sat, 22 Apr 2023   Prob (F-statistic):           1.10e-06\n",
      "Time:                        15:30:18   Log-Likelihood:                -635.49\n",
      "No. Observations:                  69   AIC:                             1275.\n",
      "Df Residuals:                      67   BIC:                             1279.\n",
      "Df Model:                           1                                         \n",
      "Covariance Type:            nonrobust                                         \n",
      "==============================================================================\n",
      "                 coef    std err          t      P>|t|      [0.025      0.975]\n",
      "------------------------------------------------------------------------------\n",
      "Intercept     44.3284   1176.065      0.038      0.970   -2303.107    2391.764\n",
      "weight         2.0124      0.375      5.360      0.000       1.263       2.762\n",
      "==============================================================================\n",
      "Omnibus:                       13.545   Durbin-Watson:                   1.021\n",
      "Prob(Omnibus):                  0.001   Jarque-Bera (JB):               14.702\n",
      "Skew:                           1.085   Prob(JB):                     0.000642\n",
      "Kurtosis:                       3.637   Cond. No.                     1.25e+04\n",
      "==============================================================================\n",
      "\n",
      "Notes:\n",
      "[1] Standard Errors assume that the covariance matrix of the errors is correctly specified.\n",
      "[2] The condition number is large, 1.25e+04. This might indicate that there are\n",
      "strong multicollinearity or other numerical problems.\n"
     ]
    }
   ],
   "source": [
    "regr4 = smf.ols(\"price ~ weight\", data = auto).fit()\n",
    "print(regr4.summary())"
   ]
  },
  {
   "cell_type": "code",
   "execution_count": 29,
   "metadata": {},
   "outputs": [
    {
     "name": "stdout",
     "output_type": "stream",
     "text": [
      "                                 OLS Regression Results                                \n",
      "=======================================================================================\n",
      "Dep. Variable:                  price   R-squared (uncentered):                   0.873\n",
      "Model:                            OLS   Adj. R-squared (uncentered):              0.871\n",
      "Method:                 Least Squares   F-statistic:                              468.2\n",
      "Date:                Sat, 22 Apr 2023   Prob (F-statistic):                    3.32e-32\n",
      "Time:                        15:30:53   Log-Likelihood:                         -635.49\n",
      "No. Observations:                  69   AIC:                                      1273.\n",
      "Df Residuals:                      68   BIC:                                      1275.\n",
      "Df Model:                           1                                                  \n",
      "Covariance Type:            nonrobust                                                  \n",
      "==============================================================================\n",
      "                 coef    std err          t      P>|t|      [0.025      0.975]\n",
      "------------------------------------------------------------------------------\n",
      "weight         2.0261      0.094     21.638      0.000       1.839       2.213\n",
      "==============================================================================\n",
      "Omnibus:                       13.345   Durbin-Watson:                   1.019\n",
      "Prob(Omnibus):                  0.001   Jarque-Bera (JB):               14.427\n",
      "Skew:                           1.077   Prob(JB):                     0.000736\n",
      "Kurtosis:                       3.618   Cond. No.                         1.00\n",
      "==============================================================================\n",
      "\n",
      "Notes:\n",
      "[1] R² is computed without centering (uncentered) since the model does not contain a constant.\n",
      "[2] Standard Errors assume that the covariance matrix of the errors is correctly specified.\n"
     ]
    }
   ],
   "source": [
    "regr5 = smf.ols(\"price ~ weight + 0\", data = auto).fit()\n",
    "print(regr5.summary())"
   ]
  },
  {
   "cell_type": "code",
   "execution_count": 38,
   "metadata": {},
   "outputs": [],
   "source": [
    "cor1 = np.corrcoef(auto[\"weight\"],auto[\"price\"])[0,1]"
   ]
  },
  {
   "cell_type": "code",
   "execution_count": 39,
   "metadata": {},
   "outputs": [
    {
     "data": {
      "text/plain": [
       "0.300128186842522"
      ]
     },
     "execution_count": 39,
     "metadata": {},
     "output_type": "execute_result"
    }
   ],
   "source": [
    "cor1**2"
   ]
  }
 ],
 "metadata": {
  "kernelspec": {
   "display_name": "econometrics",
   "language": "python",
   "name": "python3"
  },
  "language_info": {
   "codemirror_mode": {
    "name": "ipython",
    "version": 3
   },
   "file_extension": ".py",
   "mimetype": "text/x-python",
   "name": "python",
   "nbconvert_exporter": "python",
   "pygments_lexer": "ipython3",
   "version": "3.9.13"
  },
  "orig_nbformat": 4
 },
 "nbformat": 4,
 "nbformat_minor": 2
}
