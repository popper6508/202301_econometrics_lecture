{
 "cells": [
  {
   "attachments": {},
   "cell_type": "markdown",
   "metadata": {},
   "source": [
    "## Econometrics TA Session 1: Introduction to Python"
   ]
  },
  {
   "attachments": {},
   "cell_type": "markdown",
   "metadata": {},
   "source": [
    "### 1. Basic Computation"
   ]
  },
  {
   "cell_type": "code",
   "execution_count": 23,
   "metadata": {},
   "outputs": [
    {
     "data": {
      "text/plain": [
       "2.718281828459045"
      ]
     },
     "execution_count": 23,
     "metadata": {},
     "output_type": "execute_result"
    }
   ],
   "source": [
    "# (8) exponential function\n",
    "import numpy as np \n",
    "np.exp(1) # 2.718282\n",
    "print(np.exp(1))\n",
    "\n",
    "import math\n",
    "math.exp(1) # 2.718282\n",
    "print(math.exp(1))\n"
   ]
  },
  {
   "cell_type": "code",
   "execution_count": 18,
   "metadata": {},
   "outputs": [
    {
     "data": {
      "text/plain": [
       "3.0"
      ]
     },
     "execution_count": 18,
     "metadata": {},
     "output_type": "execute_result"
    }
   ],
   "source": [
    "# (9) logarithm\n",
    "np.log(np.exp(3)) # 3\n",
    "math.log(math.exp(3)) # 3"
   ]
  },
  {
   "attachments": {},
   "cell_type": "markdown",
   "metadata": {},
   "source": [
    "### 4. Data Frame"
   ]
  },
  {
   "cell_type": "code",
   "execution_count": 29,
   "metadata": {},
   "outputs": [
    {
     "name": "stdout",
     "output_type": "stream",
     "text": [
      "[1 2 3] [2 3 4]\n",
      "[3 5 7]\n",
      "[0.5        0.66666667 0.75      ]\n",
      "2\n"
     ]
    },
    {
     "data": {
      "text/plain": [
       "array([False, False,  True])"
      ]
     },
     "execution_count": 29,
     "metadata": {},
     "output_type": "execute_result"
    }
   ],
   "source": [
    "import numpy as np \n",
    "x = np.array([1, 2, 3])\n",
    "y = np.array([2, 3, 4])\n",
    "\n",
    "print(x, y)\n",
    "print(x+y)\n",
    "print(x/y)\n",
    "\n",
    "print(y[0]) # 2, 숫자부여 0부터 \n",
    "x[0] + y[1] # 4\n",
    "\n",
    "x > 2 # False, False,  True"
   ]
  },
  {
   "cell_type": "code",
   "execution_count": 31,
   "metadata": {},
   "outputs": [
    {
     "data": {
      "text/plain": [
       "numpy.ndarray"
      ]
     },
     "execution_count": 31,
     "metadata": {},
     "output_type": "execute_result"
    }
   ],
   "source": [
    "type(x)"
   ]
  },
  {
   "cell_type": "code",
   "execution_count": 12,
   "metadata": {},
   "outputs": [
    {
     "name": "stdout",
     "output_type": "stream",
     "text": [
      "3\n",
      "6\n",
      "6\n",
      "2.0\n",
      "0.816496580927726\n",
      "3\n",
      "1\n"
     ]
    }
   ],
   "source": [
    "print(len(x)) # number of elements in x\n",
    "print(sum(x)) # 1 + 2 + 3\n",
    "print(np.prod(x)) # 1 * 2 * 3\n",
    "print(np.mean(x)) # mean of elements in x\n",
    "print(np.std(x)) # standard deviation of elements in x\n",
    "print(np.max(x)) # maximum element in x\n",
    "print(np.min(x)) # minimum element in x"
   ]
  },
  {
   "cell_type": "code",
   "execution_count": 39,
   "metadata": {},
   "outputs": [
    {
     "name": "stdout",
     "output_type": "stream",
     "text": [
      "      col1  col2\n",
      "row1     1     2\n",
      "row2     3     4\n",
      "      col1  col2\n",
      "row1     1     3\n",
      "row2     2     4\n"
     ]
    }
   ],
   "source": [
    "import pandas as pd\n",
    "\n",
    "# make a 2x2 matrix with 1, 2, 3, 4 filed \n",
    "A = pd.DataFrame([[1,2], [3,4]], [\"row1\", \"row2\"], [\"col1\", \"col2\"])\n",
    "print(A)\n",
    "\n",
    "B = pd.DataFrame([[1,3], [2,4]], [\"row1\", \"row2\"], [\"col1\", \"col2\"])\n",
    "print(B)\n",
    "\n",
    "\n"
   ]
  },
  {
   "cell_type": "code",
   "execution_count": 14,
   "metadata": {},
   "outputs": [
    {
     "name": "stdout",
     "output_type": "stream",
     "text": [
      "      col1  col2\n",
      "A               \n",
      "row1     1     2\n",
      "row2     3     4\n"
     ]
    }
   ],
   "source": [
    "A = pd.DataFrame({\n",
    "    \"A\" : [\"row1\",\"row2\"],\n",
    "    \"col1\" : [1, 3],\n",
    "    \"col2\" : [2, 4]\n",
    "    }).set_index(keys=[\"A\"])\n",
    "\n",
    "print(A)"
   ]
  },
  {
   "cell_type": "code",
   "execution_count": 40,
   "metadata": {},
   "outputs": [
    {
     "name": "stdout",
     "output_type": "stream",
     "text": [
      "      col1  col2\n",
      "row1     1     2\n",
      "row2     3     4\n"
     ]
    }
   ],
   "source": [
    "A = { \"col1\" : [1, 3],\n",
    "    \"col2\" : [2, 4]}\n",
    "\n",
    "idx = [\"row1\", \"row2\"]\n",
    "A = pd.DataFrame(data=A,index=idx)\n",
    "print(A)"
   ]
  },
  {
   "cell_type": "code",
   "execution_count": 18,
   "metadata": {},
   "outputs": [
    {
     "name": "stdout",
     "output_type": "stream",
     "text": [
      "    B1  B2  B3\n",
      "A1   1   2   3\n",
      "A2   4   5   6\n",
      "A3   7   8   9\n",
      "    B1  B2  B3\n",
      "A1   1   2   3\n",
      "A2   4   5   6\n",
      "A3   7   8   9\n"
     ]
    }
   ],
   "source": [
    "# create a matrix of integers from 1 to 9\n",
    "C = pd.DataFrame(np.array([1,2,3,4,5,6,7,8,9]).reshape(3,3), index=[\"A1\", \"A2\", \"A3\"], columns=[\"B1\", \"B2\", \"B3\"])\n",
    "print(C)\n",
    "\n",
    "# print(np.arange(1,10)) # 1 2 3 4 5 6 7 8 9\n",
    "# print(np.arange(1,10,2)) # 1 3 5 7 9\n",
    "# print(np.array([1,2,3,4,5,6,7,8,9])) # 1 2 3 4 5 6 7 8 9\n",
    "\n",
    "C1 = pd.DataFrame(np.arange(1,10).reshape(3,3), index=[\"A1\", \"A2\", \"A3\"], columns=[\"B1\", \"B2\", \"B3\"])\n",
    "print(C1) # C1 = C "
   ]
  },
  {
   "cell_type": "code",
   "execution_count": 20,
   "metadata": {},
   "outputs": [
    {
     "name": "stdout",
     "output_type": "stream",
     "text": [
      "      col1  col2\n",
      "row1     2     5\n",
      "row2     5     8\n",
      "      col1  col2\n",
      "row1     1     6\n",
      "row2     6    16\n"
     ]
    }
   ],
   "source": [
    "# addition\n",
    "print(A + B)\n",
    "\n",
    "# multiplication\n",
    "print(A * B)"
   ]
  },
  {
   "cell_type": "code",
   "execution_count": 21,
   "metadata": {},
   "outputs": [
    {
     "name": "stdout",
     "output_type": "stream",
     "text": [
      "      row1  row2\n",
      "col1  -2.0   1.0\n",
      "col2   1.5  -0.5\n"
     ]
    }
   ],
   "source": [
    "# inverse of matrix A\n",
    "A_inv = pd.DataFrame(np.linalg.inv(A.values), index=A.columns, columns=A.index)\n",
    "print(A_inv)"
   ]
  },
  {
   "cell_type": "code",
   "execution_count": 22,
   "metadata": {},
   "outputs": [
    {
     "name": "stdout",
     "output_type": "stream",
     "text": [
      "(2, 2)\n"
     ]
    }
   ],
   "source": [
    "# dimensions of matrix A\n",
    "print(A.shape)"
   ]
  },
  {
   "cell_type": "code",
   "execution_count": 23,
   "metadata": {},
   "outputs": [
    {
     "name": "stdout",
     "output_type": "stream",
     "text": [
      "[1 2 3 4]\n",
      "[10 20 30 40]\n",
      "[ 1  2  3  4 10 20 30 40]\n",
      "[[1 2]\n",
      " [3 4]]\n",
      "[[10 20]\n",
      " [30 40]]\n",
      "[[ 1  2 10 20]\n",
      " [ 3  4 30 40]]\n",
      "[[ 1  2]\n",
      " [ 3  4]\n",
      " [10 20]\n",
      " [30 40]]\n"
     ]
    }
   ],
   "source": [
    "# combine \n",
    "\n",
    "# 1. using np.concatenate\n",
    "# 배열 결합 \n",
    "\n",
    "# one-dimension\n",
    "x = np.array([1,2,3,4])\n",
    "y = np.array([10,20,30,40])\n",
    "\n",
    "print(x)\n",
    "print(y)\n",
    "print(np.concatenate((x, y), axis=0))\n",
    "\n",
    "# two-dimension\n",
    "x = np.array([1,2,3,4]).reshape(2,2)\n",
    "y = np.array([10,20,30,40]).reshape(2,2)\n",
    "\n",
    "print(x)\n",
    "print(y)\n",
    "\n",
    "print(np.concatenate([x, y], axis=1)) # 좌 -> 우 \n",
    "print(np.concatenate([x, y], axis=0)) # 위 -> 아래 "
   ]
  },
  {
   "cell_type": "code",
   "execution_count": 42,
   "metadata": {},
   "outputs": [
    {
     "name": "stdout",
     "output_type": "stream",
     "text": [
      "      col1  col2\n",
      "row1     1     3\n",
      "row2     2     4\n",
      "row1    10    30\n",
      "row2    20    40\n",
      "      col1  col2  col1  col2\n",
      "row1     1     3    10    30\n",
      "row2     2     4    20    40\n",
      "      col1  col2  col1  col2\n",
      "row1   1.0   3.0   100   400\n",
      "row2   2.0   4.0   200   500\n",
      "row3   NaN   NaN   300   600\n"
     ]
    }
   ],
   "source": [
    "# 2. using pd.concat\n",
    "# combine Data Frame\n",
    "\n",
    "x = pd.DataFrame({\n",
    "    \"col1\":[1,2],\n",
    "    \"col2\":[3,4]\n",
    "},index=[\"row1\",\"row2\"])\n",
    "\n",
    "# print(x)\n",
    "\n",
    "y = pd.DataFrame({\n",
    "    \"col1\":[10,20],\n",
    "    \"col2\":[30,40]\n",
    "},index=['row1','row2'])\n",
    "\n",
    "# print(y)\n",
    "\n",
    "z = pd.DataFrame({\n",
    "    \"col1\":[100,200,300],\n",
    "    \"col2\":[400, 500, 600]\n",
    "}, index=['row1', 'row2', 'row3'])\n",
    "\n",
    "# print(z)\n",
    "\n",
    "c1 = pd.concat([x,y])\n",
    "print(c1) # combine by rows \n",
    "\n",
    "c2 = pd.concat([x,y], axis=1)\n",
    "print(c2) # combine by columns\n",
    "\n",
    "c3 = pd.concat([x,z],axis=1)\n",
    "print(c3) # NA \n",
    "\n"
   ]
  },
  {
   "cell_type": "code",
   "execution_count": 25,
   "metadata": {},
   "outputs": [
    {
     "name": "stdout",
     "output_type": "stream",
     "text": [
      "   name  age  female\n",
      "0   Kim   20    True\n",
      "1  Park   30   False\n",
      "2   Lee   40   False\n"
     ]
    }
   ],
   "source": [
    "name = [\"Kim\", \"Park\", \"Lee\"]\n",
    "age = [20, 30, 40]\n",
    "female = [True, False, False]\n",
    "\n",
    "My_DataFrame = pd.DataFrame({'name': name, 'age': age, 'female': female})\n",
    "print(My_DataFrame)"
   ]
  },
  {
   "attachments": {},
   "cell_type": "markdown",
   "metadata": {},
   "source": [
    "### 5. Importing Data  "
   ]
  },
  {
   "cell_type": "code",
   "execution_count": 49,
   "metadata": {},
   "outputs": [
    {
     "name": "stdout",
     "output_type": "stream",
     "text": [
      "<class 'pandas.core.frame.DataFrame'>\n",
      "RangeIndex: 15 entries, 0 to 14\n",
      "Data columns (total 2 columns):\n",
      " #   Column  Non-Null Count  Dtype  \n",
      "---  ------  --------------  -----  \n",
      " 0   Ads     15 non-null     float64\n",
      " 1   Sales   15 non-null     float64\n",
      "dtypes: float64(2)\n",
      "memory usage: 368.0 bytes\n",
      "None\n",
      "    Ads   Sales\n",
      "0  31.0   75.11\n",
      "1  36.5   84.95\n",
      "2  48.1  101.72\n",
      "3  58.7  106.06\n",
      "4  49.1  106.52\n",
      "      Ads   Sales\n",
      "10  101.3  214.47\n",
      "11   70.9  203.94\n",
      "12   85.8  211.43\n",
      "13  107.6  233.50\n",
      "14   87.6  233.14\n"
     ]
    }
   ],
   "source": [
    "import os \n",
    "\n",
    "# get current working directory\n",
    "os.getcwd()\n",
    "\n",
    "# set working directory\n",
    "os.chdir(\"C:/Users/KJS/Dropbox/TA/TA_python\")\n",
    "os.chdir(\"C:\\\\Users\\\\KJS\\\\Dropbox\\\\TA\\\\TA_python\")\n",
    "\n",
    "# list files in directory\n",
    "os.listdir()\n",
    "\n",
    "# read data file\n",
    "data = pd.read_excel(\"./data/sales.xlsx\")\n",
    "\n",
    "# print data structure\n",
    "print(data.info())\n",
    "\n",
    "# view first and last 6 observations\n",
    "print(data.head())\n",
    "print(data.tail())\n",
    "\n"
   ]
  },
  {
   "cell_type": "code",
   "execution_count": 61,
   "metadata": {},
   "outputs": [
    {
     "name": "stdout",
     "output_type": "stream",
     "text": [
      "      Ads   Sales\n",
      "0    31.0   75.11\n",
      "1    36.5   84.95\n",
      "2    48.1  101.72\n",
      "3    58.7  106.06\n",
      "4    49.1  106.52\n",
      "5    64.5  120.32\n",
      "6    70.4  132.81\n",
      "7    81.1  149.64\n",
      "8    98.7  174.18\n",
      "9    92.6  191.28\n",
      "10  101.3  214.47\n",
      "11   70.9  203.94\n",
      "12   85.8  211.43\n",
      "13  107.6  233.50\n",
      "14   87.6  233.14\n"
     ]
    }
   ],
   "source": [
    "# extract columns\n",
    "print(data['Ads'])\n",
    "print(data[\"Sales\"])\n",
    "print(data[['Ads', 'Sales']])\n"
   ]
  },
  {
   "cell_type": "code",
   "execution_count": 82,
   "metadata": {},
   "outputs": [
    {
     "name": "stdout",
     "output_type": "stream",
     "text": [
      "    Ads   Sales\n",
      "0  31.0   75.11\n",
      "1  36.5   84.95\n",
      "2  48.1  101.72\n",
      "3  58.7  106.06\n",
      "    Ads   Sales\n",
      "0  31.0   75.11\n",
      "1  36.5   84.95\n",
      "2  48.1  101.72\n"
     ]
    }
   ],
   "source": [
    "# loc : 인덱스 기준으로 행데이터 추출\n",
    "# iloc : 행 번호를 기준으로 행 데이터 추출 \n",
    "print(data.loc[:3])\n",
    "print(data.iloc[:3])"
   ]
  },
  {
   "cell_type": "code",
   "execution_count": 83,
   "metadata": {},
   "outputs": [
    {
     "data": {
      "text/html": [
       "<div>\n",
       "<style scoped>\n",
       "    .dataframe tbody tr th:only-of-type {\n",
       "        vertical-align: middle;\n",
       "    }\n",
       "\n",
       "    .dataframe tbody tr th {\n",
       "        vertical-align: top;\n",
       "    }\n",
       "\n",
       "    .dataframe thead th {\n",
       "        text-align: right;\n",
       "    }\n",
       "</style>\n",
       "<table border=\"1\" class=\"dataframe\">\n",
       "  <thead>\n",
       "    <tr style=\"text-align: right;\">\n",
       "      <th></th>\n",
       "      <th>Ads</th>\n",
       "    </tr>\n",
       "  </thead>\n",
       "  <tbody>\n",
       "    <tr>\n",
       "      <th>0</th>\n",
       "      <td>31.0</td>\n",
       "    </tr>\n",
       "    <tr>\n",
       "      <th>1</th>\n",
       "      <td>36.5</td>\n",
       "    </tr>\n",
       "    <tr>\n",
       "      <th>2</th>\n",
       "      <td>48.1</td>\n",
       "    </tr>\n",
       "    <tr>\n",
       "      <th>3</th>\n",
       "      <td>58.7</td>\n",
       "    </tr>\n",
       "  </tbody>\n",
       "</table>\n",
       "</div>"
      ],
      "text/plain": [
       "    Ads\n",
       "0  31.0\n",
       "1  36.5\n",
       "2  48.1\n",
       "3  58.7"
      ]
     },
     "execution_count": 83,
     "metadata": {},
     "output_type": "execute_result"
    }
   ],
   "source": [
    "# loc\n",
    "data.loc[0] # 첫 번째 행 \n",
    "data.loc[:,['Ads']]\n",
    "data.loc[:,['Ads', 'Sales']]\n",
    "data.loc[:3,['Ads']]"
   ]
  },
  {
   "cell_type": "code",
   "execution_count": 28,
   "metadata": {},
   "outputs": [
    {
     "name": "stdout",
     "output_type": "stream",
     "text": [
      "0      31.0\n",
      "1      36.5\n",
      "2      48.1\n",
      "3      58.7\n",
      "4      49.1\n",
      "5      64.5\n",
      "6      70.4\n",
      "7      81.1\n",
      "8      98.7\n",
      "9      92.6\n",
      "10    101.3\n",
      "11     70.9\n",
      "12     85.8\n",
      "13    107.6\n",
      "14     87.6\n",
      "Name: Ads, dtype: float64\n",
      "0      75.11\n",
      "1      84.95\n",
      "2     101.72\n",
      "3     106.06\n",
      "4     106.52\n",
      "5     120.32\n",
      "6     132.81\n",
      "7     149.64\n",
      "8     174.18\n",
      "9     191.28\n",
      "10    214.47\n",
      "11    203.94\n",
      "12    211.43\n",
      "13    233.50\n",
      "14    233.14\n",
      "Name: Sales, dtype: float64\n",
      "      Ads   Sales\n",
      "0    31.0   75.11\n",
      "1    36.5   84.95\n",
      "2    48.1  101.72\n",
      "3    58.7  106.06\n",
      "4    49.1  106.52\n",
      "5    64.5  120.32\n",
      "6    70.4  132.81\n",
      "7    81.1  149.64\n",
      "8    98.7  174.18\n",
      "9    92.6  191.28\n",
      "10  101.3  214.47\n",
      "11   70.9  203.94\n",
      "12   85.8  211.43\n",
      "13  107.6  233.50\n",
      "14   87.6  233.14\n",
      "    Ads  Sales\n",
      "0  31.0  75.11\n",
      "1  36.5  84.95\n"
     ]
    }
   ],
   "source": [
    "# extract rows\n",
    "print(data.iloc[:, 0])  # extract 1st column which is Ads  \n",
    "# data.iloc[:, [0]]\n",
    "# data.iloc[:, :1]\n",
    "print(data.iloc[:, 1])  # extract 2nd column which is Sales\n",
    "print(data.iloc[:, 0:2])  # extract 1st and 2nd columns\n",
    "# print(data.iloc[:, :2])\n",
    "print(data.iloc[0:2, :])  # extract 1st and 2nd rows\n",
    "#  vs print(data.loc[:2, ['Ads','Sales']])"
   ]
  },
  {
   "cell_type": "code",
   "execution_count": 29,
   "metadata": {},
   "outputs": [
    {
     "name": "stdout",
     "output_type": "stream",
     "text": [
      "     Sales\n",
      "0    75.11\n",
      "1    84.95\n",
      "2   101.72\n",
      "3   106.06\n",
      "4   106.52\n",
      "5   120.32\n",
      "6   132.81\n",
      "7   149.64\n",
      "8   174.18\n",
      "9   191.28\n",
      "10  214.47\n",
      "11  203.94\n",
      "12  211.43\n",
      "13  233.50\n",
      "14  233.14\n",
      "Empty DataFrame\n",
      "Columns: []\n",
      "Index: [0, 1, 2, 3, 4, 5, 6, 7, 8, 9, 10, 11, 12, 13, 14]\n"
     ]
    }
   ],
   "source": [
    "print(data.drop(columns='Ads'))\n",
    "print(data.drop(columns=['Ads', 'Sales']))"
   ]
  },
  {
   "cell_type": "code",
   "execution_count": 31,
   "metadata": {},
   "outputs": [
    {
     "name": "stdout",
     "output_type": "stream",
     "text": [
      "      Ads   Sales\n",
      "6    70.4  132.81\n",
      "7    81.1  149.64\n",
      "8    98.7  174.18\n",
      "9    92.6  191.28\n",
      "10  101.3  214.47\n",
      "11   70.9  203.94\n",
      "12   85.8  211.43\n",
      "13  107.6  233.50\n",
      "14   87.6  233.14\n",
      "      Ads   Sales\n",
      "10  101.3  214.47\n",
      "11   70.9  203.94\n",
      "12   85.8  211.43\n",
      "13  107.6  233.50\n",
      "14   87.6  233.14\n",
      "      Ads   Sales\n",
      "6    70.4  132.81\n",
      "7    81.1  149.64\n",
      "8    98.7  174.18\n",
      "9    92.6  191.28\n",
      "10  101.3  214.47\n",
      "11   70.9  203.94\n",
      "12   85.8  211.43\n",
      "13  107.6  233.50\n",
      "14   87.6  233.14\n",
      "      Ads   Sales\n",
      "7    81.1  149.64\n",
      "8    98.7  174.18\n",
      "9    92.6  191.28\n",
      "10  101.3  214.47\n",
      "12   85.8  211.43\n",
      "13  107.6  233.50\n",
      "14   87.6  233.14\n",
      "      Ads   Sales\n",
      "8    98.7  174.18\n",
      "9    92.6  191.28\n",
      "10  101.3  214.47\n",
      "13  107.6  233.50\n"
     ]
    }
   ],
   "source": [
    "# filter rows of data frame\n",
    "print(data.loc[data[\"Ads\"] > 70])\n",
    "print(data.loc[(data[\"Ads\"] > 70) & (data[\"Sales\"] > 200)])\n",
    "print(data.loc[(data[\"Ads\"] > 70) | (data[\"Sales\"] > 200)])\n",
    "print(data.loc[data[\"Ads\"] > 70.9])\n",
    "print(data.loc[data[\"Ads\"] >= 92.6])"
   ]
  },
  {
   "attachments": {},
   "cell_type": "markdown",
   "metadata": {},
   "source": [
    "### 6. Describing Data"
   ]
  },
  {
   "cell_type": "code",
   "execution_count": 124,
   "metadata": {},
   "outputs": [
    {
     "data": {
      "text/html": [
       "<div>\n",
       "<style scoped>\n",
       "    .dataframe tbody tr th:only-of-type {\n",
       "        vertical-align: middle;\n",
       "    }\n",
       "\n",
       "    .dataframe tbody tr th {\n",
       "        vertical-align: top;\n",
       "    }\n",
       "\n",
       "    .dataframe thead th {\n",
       "        text-align: right;\n",
       "    }\n",
       "</style>\n",
       "<table border=\"1\" class=\"dataframe\">\n",
       "  <thead>\n",
       "    <tr style=\"text-align: right;\">\n",
       "      <th></th>\n",
       "      <th>Ads</th>\n",
       "      <th>Sales</th>\n",
       "    </tr>\n",
       "  </thead>\n",
       "  <tbody>\n",
       "    <tr>\n",
       "      <th>0</th>\n",
       "      <td>31.0</td>\n",
       "      <td>75.11</td>\n",
       "    </tr>\n",
       "    <tr>\n",
       "      <th>1</th>\n",
       "      <td>36.5</td>\n",
       "      <td>84.95</td>\n",
       "    </tr>\n",
       "    <tr>\n",
       "      <th>2</th>\n",
       "      <td>48.1</td>\n",
       "      <td>101.72</td>\n",
       "    </tr>\n",
       "    <tr>\n",
       "      <th>3</th>\n",
       "      <td>58.7</td>\n",
       "      <td>106.06</td>\n",
       "    </tr>\n",
       "    <tr>\n",
       "      <th>4</th>\n",
       "      <td>49.1</td>\n",
       "      <td>106.52</td>\n",
       "    </tr>\n",
       "    <tr>\n",
       "      <th>5</th>\n",
       "      <td>64.5</td>\n",
       "      <td>120.32</td>\n",
       "    </tr>\n",
       "    <tr>\n",
       "      <th>6</th>\n",
       "      <td>70.4</td>\n",
       "      <td>132.81</td>\n",
       "    </tr>\n",
       "    <tr>\n",
       "      <th>7</th>\n",
       "      <td>81.1</td>\n",
       "      <td>149.64</td>\n",
       "    </tr>\n",
       "    <tr>\n",
       "      <th>8</th>\n",
       "      <td>98.7</td>\n",
       "      <td>174.18</td>\n",
       "    </tr>\n",
       "    <tr>\n",
       "      <th>9</th>\n",
       "      <td>92.6</td>\n",
       "      <td>191.28</td>\n",
       "    </tr>\n",
       "    <tr>\n",
       "      <th>10</th>\n",
       "      <td>101.3</td>\n",
       "      <td>214.47</td>\n",
       "    </tr>\n",
       "    <tr>\n",
       "      <th>11</th>\n",
       "      <td>70.9</td>\n",
       "      <td>203.94</td>\n",
       "    </tr>\n",
       "    <tr>\n",
       "      <th>12</th>\n",
       "      <td>85.8</td>\n",
       "      <td>211.43</td>\n",
       "    </tr>\n",
       "    <tr>\n",
       "      <th>13</th>\n",
       "      <td>107.6</td>\n",
       "      <td>233.50</td>\n",
       "    </tr>\n",
       "    <tr>\n",
       "      <th>14</th>\n",
       "      <td>87.6</td>\n",
       "      <td>233.14</td>\n",
       "    </tr>\n",
       "  </tbody>\n",
       "</table>\n",
       "</div>"
      ],
      "text/plain": [
       "      Ads   Sales\n",
       "0    31.0   75.11\n",
       "1    36.5   84.95\n",
       "2    48.1  101.72\n",
       "3    58.7  106.06\n",
       "4    49.1  106.52\n",
       "5    64.5  120.32\n",
       "6    70.4  132.81\n",
       "7    81.1  149.64\n",
       "8    98.7  174.18\n",
       "9    92.6  191.28\n",
       "10  101.3  214.47\n",
       "11   70.9  203.94\n",
       "12   85.8  211.43\n",
       "13  107.6  233.50\n",
       "14   87.6  233.14"
      ]
     },
     "execution_count": 124,
     "metadata": {},
     "output_type": "execute_result"
    }
   ],
   "source": [
    "data"
   ]
  },
  {
   "cell_type": "code",
   "execution_count": 32,
   "metadata": {},
   "outputs": [
    {
     "name": "stdout",
     "output_type": "stream",
     "text": [
      "              Ads       Sales\n",
      "count   15.000000   15.000000\n",
      "mean    72.260000  155.938000\n",
      "std     23.982845   55.839443\n",
      "min     31.000000   75.110000\n",
      "25%     53.900000  106.290000\n",
      "50%     70.900000  149.640000\n",
      "75%     90.100000  207.685000\n",
      "max    107.600000  233.500000\n",
      "count     15.000000\n",
      "mean     155.938000\n",
      "std       55.839443\n",
      "min       75.110000\n",
      "25%      106.290000\n",
      "50%      149.640000\n",
      "75%      207.685000\n",
      "max      233.500000\n",
      "Name: Sales, dtype: float64\n"
     ]
    }
   ],
   "source": [
    "print(data.describe())\n",
    "print(data['Sales'].describe())"
   ]
  },
  {
   "cell_type": "code",
   "execution_count": 127,
   "metadata": {},
   "outputs": [
    {
     "name": "stdout",
     "output_type": "stream",
     "text": [
      "<matplotlib.collections.PathCollection object at 0x00000218B6F85AC0>\n"
     ]
    },
    {
     "data": {
      "image/png": "[encoded data removed]",
      "text/plain": [
       "<Figure size 640x480 with 1 Axes>"
      ]
     },
     "metadata": {},
     "output_type": "display_data"
    }
   ],
   "source": [
    "import statsmodels.api as sm\n",
    "import statsmodels.formula.api as smf\n",
    "import matplotlib.pyplot as plt\n",
    "\n",
    "print(plt.scatter(data['Ads'], data['Sales'])) # scatter plot\n",
    "\n"
   ]
  },
  {
   "cell_type": "code",
   "execution_count": 129,
   "metadata": {},
   "outputs": [
    {
     "name": "stderr",
     "output_type": "stream",
     "text": [
      "c:\\Users\\KJS\\anaconda3\\envs\\econometrics\\lib\\site-packages\\scipy\\stats\\_stats_py.py:1736: UserWarning: kurtosistest only valid for n>=20 ... continuing anyway, n=15\n",
      "  warnings.warn(\"kurtosistest only valid for n>=20 ... continuing \"\n"
     ]
    },
    {
     "data": {
      "text/html": [
       "<table class=\"simpletable\">\n",
       "<caption>OLS Regression Results</caption>\n",
       "<tr>\n",
       "  <th>Dep. Variable:</th>          <td>Sales</td>      <th>  R-squared:         </th> <td>   0.801</td>\n",
       "</tr>\n",
       "<tr>\n",
       "  <th>Model:</th>                   <td>OLS</td>       <th>  Adj. R-squared:    </th> <td>   0.786</td>\n",
       "</tr>\n",
       "<tr>\n",
       "  <th>Method:</th>             <td>Least Squares</td>  <th>  F-statistic:       </th> <td>   52.34</td>\n",
       "</tr>\n",
       "<tr>\n",
       "  <th>Date:</th>             <td>Mon, 03 Apr 2023</td> <th>  Prob (F-statistic):</th> <td>6.60e-06</td>\n",
       "</tr>\n",
       "<tr>\n",
       "  <th>Time:</th>                 <td>23:01:54</td>     <th>  Log-Likelihood:    </th> <td> -68.993</td>\n",
       "</tr>\n",
       "<tr>\n",
       "  <th>No. Observations:</th>      <td>    15</td>      <th>  AIC:               </th> <td>   142.0</td>\n",
       "</tr>\n",
       "<tr>\n",
       "  <th>Df Residuals:</th>          <td>    13</td>      <th>  BIC:               </th> <td>   143.4</td>\n",
       "</tr>\n",
       "<tr>\n",
       "  <th>Df Model:</th>              <td>     1</td>      <th>                     </th>     <td> </td>   \n",
       "</tr>\n",
       "<tr>\n",
       "  <th>Covariance Type:</th>      <td>nonrobust</td>    <th>                     </th>     <td> </td>   \n",
       "</tr>\n",
       "</table>\n",
       "<table class=\"simpletable\">\n",
       "<tr>\n",
       "      <td></td>         <th>coef</th>     <th>std err</th>      <th>t</th>      <th>P>|t|</th>  <th>[0.025</th>    <th>0.975]</th>  \n",
       "</tr>\n",
       "<tr>\n",
       "  <th>Intercept</th> <td>    5.3572</td> <td>   21.857</td> <td>    0.245</td> <td> 0.810</td> <td>  -41.861</td> <td>   52.576</td>\n",
       "</tr>\n",
       "<tr>\n",
       "  <th>Ads</th>       <td>    2.0839</td> <td>    0.288</td> <td>    7.235</td> <td> 0.000</td> <td>    1.462</td> <td>    2.706</td>\n",
       "</tr>\n",
       "</table>\n",
       "<table class=\"simpletable\">\n",
       "<tr>\n",
       "  <th>Omnibus:</th>       <td> 2.310</td> <th>  Durbin-Watson:     </th> <td>   0.900</td>\n",
       "</tr>\n",
       "<tr>\n",
       "  <th>Prob(Omnibus):</th> <td> 0.315</td> <th>  Jarque-Bera (JB):  </th> <td>   1.385</td>\n",
       "</tr>\n",
       "<tr>\n",
       "  <th>Skew:</th>          <td> 0.738</td> <th>  Prob(JB):          </th> <td>   0.500</td>\n",
       "</tr>\n",
       "<tr>\n",
       "  <th>Kurtosis:</th>      <td> 2.812</td> <th>  Cond. No.          </th> <td>    249.</td>\n",
       "</tr>\n",
       "</table><br/><br/>Notes:<br/>[1] Standard Errors assume that the covariance matrix of the errors is correctly specified."
      ],
      "text/plain": [
       "<class 'statsmodels.iolib.summary.Summary'>\n",
       "\"\"\"\n",
       "                            OLS Regression Results                            \n",
       "==============================================================================\n",
       "Dep. Variable:                  Sales   R-squared:                       0.801\n",
       "Model:                            OLS   Adj. R-squared:                  0.786\n",
       "Method:                 Least Squares   F-statistic:                     52.34\n",
       "Date:                Mon, 03 Apr 2023   Prob (F-statistic):           6.60e-06\n",
       "Time:                        23:01:54   Log-Likelihood:                -68.993\n",
       "No. Observations:                  15   AIC:                             142.0\n",
       "Df Residuals:                      13   BIC:                             143.4\n",
       "Df Model:                           1                                         \n",
       "Covariance Type:            nonrobust                                         \n",
       "==============================================================================\n",
       "                 coef    std err          t      P>|t|      [0.025      0.975]\n",
       "------------------------------------------------------------------------------\n",
       "Intercept      5.3572     21.857      0.245      0.810     -41.861      52.576\n",
       "Ads            2.0839      0.288      7.235      0.000       1.462       2.706\n",
       "==============================================================================\n",
       "Omnibus:                        2.310   Durbin-Watson:                   0.900\n",
       "Prob(Omnibus):                  0.315   Jarque-Bera (JB):                1.385\n",
       "Skew:                           0.738   Prob(JB):                        0.500\n",
       "Kurtosis:                       2.812   Cond. No.                         249.\n",
       "==============================================================================\n",
       "\n",
       "Notes:\n",
       "[1] Standard Errors assume that the covariance matrix of the errors is correctly specified.\n",
       "\"\"\""
      ]
     },
     "execution_count": 129,
     "metadata": {},
     "output_type": "execute_result"
    }
   ],
   "source": [
    "model = smf.ols(formula=\"Sales ~ Ads\", data=data).fit()\n",
    "model.summary()"
   ]
  },
  {
   "cell_type": "code",
   "execution_count": 135,
   "metadata": {},
   "outputs": [
    {
     "data": {
      "text/plain": [
       "Text(0.5, 1.0, 'Linear Regression')"
      ]
     },
     "execution_count": 135,
     "metadata": {},
     "output_type": "execute_result"
    },
    {
     "data": {
      "image/png": "[encoded data removed]",
      "text/plain": [
       "<Figure size 640x480 with 1 Axes>"
      ]
     },
     "metadata": {},
     "output_type": "display_data"
    }
   ],
   "source": [
    "# plot(x, y) : draw scatter plot\n",
    "plt.scatter(data['Ads'], data['Sales']) # scatter plot\n",
    "\n",
    "# Add the regression line\n",
    "plt.plot(data['Ads'], model.predict(data['Ads']), color='violet')\n",
    "\n",
    "# # Add axis labels and title\n",
    "plt.xlabel('Ads')\n",
    "plt.ylabel('Sales')\n",
    "plt.title('Linear Regression')"
   ]
  }
 ],
 "metadata": {
  "kernelspec": {
   "display_name": "econometrics",
   "language": "python",
   "name": "python3"
  },
  "language_info": {
   "codemirror_mode": {
    "name": "ipython",
    "version": 3
   },
   "file_extension": ".py",
   "mimetype": "text/x-python",
   "name": "python",
   "nbconvert_exporter": "python",
   "pygments_lexer": "ipython3",
   "version": "3.9.13"
  },
  "orig_nbformat": 4
 },
 "nbformat": 4,
 "nbformat_minor": 2
}
